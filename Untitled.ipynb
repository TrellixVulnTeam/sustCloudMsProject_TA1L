{
 "cells": [
  {
   "cell_type": "code",
   "execution_count": 5,
   "metadata": {},
   "outputs": [],
   "source": [
    "import pandas as pd\n",
    "import os\n",
    "from PIL import Image"
   ]
  },
  {
   "cell_type": "code",
   "execution_count": 13,
   "metadata": {},
   "outputs": [
    {
     "name": "stdout",
     "output_type": "stream",
     "text": [
      "File Size In Bytes:- 137658\n",
      "787 1111\n"
     ]
    }
   ],
   "source": [
    "# open files\n",
    "# set resoultion -> for jpeg/png/jpg\n",
    "#evaluate results\n",
    "#TASK TO ANALYSE\n",
    "# - time\n",
    "# - how image resulution and size impact\n",
    "# - analyse cases\n",
    "# -- case 1: key-value analysis succeeds right/correct ?\n",
    "# -- case 2: key-value analysis fails, but only two options are found (no multiple choices) right/correct ?\n",
    "# -- case 3: key-value analysis fails, multiple choices are found -> selection, option right/correcr ?\n",
    "# -- case 4: no analysis succeed\n",
    "\n",
    "\n",
    "\n",
    "image_file = Image.open('tickets/aegeanair/aegeanTicket.jpeg')\n",
    "\n",
    "print(\"File Size In Bytes:- \"+str(len(image_file.fp.read())))\n",
    "wid, hgt = image_file.size\n",
    "print(wid, hgt)"
   ]
  },
  {
   "cell_type": "code",
   "execution_count": 9,
   "metadata": {},
   "outputs": [
    {
     "name": "stdout",
     "output_type": "stream",
     "text": [
      "The resolution of the image is 0 x 0\n"
     ]
    }
   ],
   "source": []
  },
  {
   "cell_type": "code",
   "execution_count": null,
   "metadata": {},
   "outputs": [],
   "source": []
  }
 ],
 "metadata": {
  "kernelspec": {
   "display_name": "Python 3",
   "language": "python",
   "name": "python3"
  },
  "language_info": {
   "codemirror_mode": {
    "name": "ipython",
    "version": 3
   },
   "file_extension": ".py",
   "mimetype": "text/x-python",
   "name": "python",
   "nbconvert_exporter": "python",
   "pygments_lexer": "ipython3",
   "version": "3.8.3"
  }
 },
 "nbformat": 4,
 "nbformat_minor": 4
}
