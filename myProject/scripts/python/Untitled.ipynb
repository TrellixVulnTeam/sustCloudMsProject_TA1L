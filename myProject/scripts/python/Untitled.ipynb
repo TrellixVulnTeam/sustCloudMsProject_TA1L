{
 "cells": [
  {
   "cell_type": "code",
   "execution_count": 12,
   "metadata": {},
   "outputs": [],
   "source": [
    "import pandas as pd\n",
    "import geopy.distance\n",
    "\n",
    "df = pd.read_csv('airport_iata.csv')"
   ]
  },
  {
   "cell_type": "code",
   "execution_count": 13,
   "metadata": {},
   "outputs": [
    {
     "data": {
      "text/html": [
       "<div>\n",
       "<style scoped>\n",
       "    .dataframe tbody tr th:only-of-type {\n",
       "        vertical-align: middle;\n",
       "    }\n",
       "\n",
       "    .dataframe tbody tr th {\n",
       "        vertical-align: top;\n",
       "    }\n",
       "\n",
       "    .dataframe thead th {\n",
       "        text-align: right;\n",
       "    }\n",
       "</style>\n",
       "<table border=\"1\" class=\"dataframe\">\n",
       "  <thead>\n",
       "    <tr style=\"text-align: right;\">\n",
       "      <th></th>\n",
       "      <th>ident</th>\n",
       "      <th>type</th>\n",
       "      <th>name</th>\n",
       "      <th>elevation_ft</th>\n",
       "      <th>continent</th>\n",
       "      <th>iso_country</th>\n",
       "      <th>iso_region</th>\n",
       "      <th>municipality</th>\n",
       "      <th>gps_code</th>\n",
       "      <th>iata_code</th>\n",
       "      <th>local_code</th>\n",
       "      <th>coordinates</th>\n",
       "    </tr>\n",
       "  </thead>\n",
       "  <tbody>\n",
       "    <tr>\n",
       "      <th>0</th>\n",
       "      <td>00A</td>\n",
       "      <td>heliport</td>\n",
       "      <td>Total Rf Heliport</td>\n",
       "      <td>11.0</td>\n",
       "      <td>NaN</td>\n",
       "      <td>US</td>\n",
       "      <td>US-PA</td>\n",
       "      <td>Bensalem</td>\n",
       "      <td>00A</td>\n",
       "      <td>NaN</td>\n",
       "      <td>00A</td>\n",
       "      <td>-74.93360137939453, 40.07080078125</td>\n",
       "    </tr>\n",
       "    <tr>\n",
       "      <th>1</th>\n",
       "      <td>00AA</td>\n",
       "      <td>small_airport</td>\n",
       "      <td>Aero B Ranch Airport</td>\n",
       "      <td>3435.0</td>\n",
       "      <td>NaN</td>\n",
       "      <td>US</td>\n",
       "      <td>US-KS</td>\n",
       "      <td>Leoti</td>\n",
       "      <td>00AA</td>\n",
       "      <td>NaN</td>\n",
       "      <td>00AA</td>\n",
       "      <td>-101.473911, 38.704022</td>\n",
       "    </tr>\n",
       "    <tr>\n",
       "      <th>2</th>\n",
       "      <td>00AK</td>\n",
       "      <td>small_airport</td>\n",
       "      <td>Lowell Field</td>\n",
       "      <td>450.0</td>\n",
       "      <td>NaN</td>\n",
       "      <td>US</td>\n",
       "      <td>US-AK</td>\n",
       "      <td>Anchor Point</td>\n",
       "      <td>00AK</td>\n",
       "      <td>NaN</td>\n",
       "      <td>00AK</td>\n",
       "      <td>-151.695999146, 59.94919968</td>\n",
       "    </tr>\n",
       "    <tr>\n",
       "      <th>3</th>\n",
       "      <td>00AL</td>\n",
       "      <td>small_airport</td>\n",
       "      <td>Epps Airpark</td>\n",
       "      <td>820.0</td>\n",
       "      <td>NaN</td>\n",
       "      <td>US</td>\n",
       "      <td>US-AL</td>\n",
       "      <td>Harvest</td>\n",
       "      <td>00AL</td>\n",
       "      <td>NaN</td>\n",
       "      <td>00AL</td>\n",
       "      <td>-86.77030181884766, 34.86479949951172</td>\n",
       "    </tr>\n",
       "    <tr>\n",
       "      <th>4</th>\n",
       "      <td>00AR</td>\n",
       "      <td>closed</td>\n",
       "      <td>Newport Hospital &amp; Clinic Heliport</td>\n",
       "      <td>237.0</td>\n",
       "      <td>NaN</td>\n",
       "      <td>US</td>\n",
       "      <td>US-AR</td>\n",
       "      <td>Newport</td>\n",
       "      <td>NaN</td>\n",
       "      <td>NaN</td>\n",
       "      <td>NaN</td>\n",
       "      <td>-91.254898, 35.6087</td>\n",
       "    </tr>\n",
       "    <tr>\n",
       "      <th>...</th>\n",
       "      <td>...</td>\n",
       "      <td>...</td>\n",
       "      <td>...</td>\n",
       "      <td>...</td>\n",
       "      <td>...</td>\n",
       "      <td>...</td>\n",
       "      <td>...</td>\n",
       "      <td>...</td>\n",
       "      <td>...</td>\n",
       "      <td>...</td>\n",
       "      <td>...</td>\n",
       "      <td>...</td>\n",
       "    </tr>\n",
       "    <tr>\n",
       "      <th>57416</th>\n",
       "      <td>ZYYK</td>\n",
       "      <td>medium_airport</td>\n",
       "      <td>Yingkou Lanqi Airport</td>\n",
       "      <td>0.0</td>\n",
       "      <td>AS</td>\n",
       "      <td>CN</td>\n",
       "      <td>CN-21</td>\n",
       "      <td>Yingkou</td>\n",
       "      <td>ZYYK</td>\n",
       "      <td>YKH</td>\n",
       "      <td>NaN</td>\n",
       "      <td>122.3586, 40.542524</td>\n",
       "    </tr>\n",
       "    <tr>\n",
       "      <th>57417</th>\n",
       "      <td>ZYYY</td>\n",
       "      <td>medium_airport</td>\n",
       "      <td>Shenyang Dongta Airport</td>\n",
       "      <td>NaN</td>\n",
       "      <td>AS</td>\n",
       "      <td>CN</td>\n",
       "      <td>CN-21</td>\n",
       "      <td>Shenyang</td>\n",
       "      <td>ZYYY</td>\n",
       "      <td>NaN</td>\n",
       "      <td>NaN</td>\n",
       "      <td>123.49600219726562, 41.784400939941406</td>\n",
       "    </tr>\n",
       "    <tr>\n",
       "      <th>57418</th>\n",
       "      <td>ZZ-0001</td>\n",
       "      <td>heliport</td>\n",
       "      <td>Sealand Helipad</td>\n",
       "      <td>40.0</td>\n",
       "      <td>EU</td>\n",
       "      <td>GB</td>\n",
       "      <td>GB-ENG</td>\n",
       "      <td>Sealand</td>\n",
       "      <td>NaN</td>\n",
       "      <td>NaN</td>\n",
       "      <td>NaN</td>\n",
       "      <td>1.4825, 51.894444</td>\n",
       "    </tr>\n",
       "    <tr>\n",
       "      <th>57419</th>\n",
       "      <td>ZZ-0002</td>\n",
       "      <td>small_airport</td>\n",
       "      <td>Glorioso Islands Airstrip</td>\n",
       "      <td>11.0</td>\n",
       "      <td>AF</td>\n",
       "      <td>TF</td>\n",
       "      <td>TF-U-A</td>\n",
       "      <td>Grande Glorieuse</td>\n",
       "      <td>NaN</td>\n",
       "      <td>NaN</td>\n",
       "      <td>NaN</td>\n",
       "      <td>47.296388888900005, -11.584277777799999</td>\n",
       "    </tr>\n",
       "    <tr>\n",
       "      <th>57420</th>\n",
       "      <td>ZZZZ</td>\n",
       "      <td>small_airport</td>\n",
       "      <td>Satsuma IÅjima Airport</td>\n",
       "      <td>338.0</td>\n",
       "      <td>AS</td>\n",
       "      <td>JP</td>\n",
       "      <td>JP-46</td>\n",
       "      <td>Mishima-Mura</td>\n",
       "      <td>RJX7</td>\n",
       "      <td>NaN</td>\n",
       "      <td>RJX7</td>\n",
       "      <td>130.270556, 30.784722</td>\n",
       "    </tr>\n",
       "  </tbody>\n",
       "</table>\n",
       "<p>57421 rows × 12 columns</p>\n",
       "</div>"
      ],
      "text/plain": [
       "         ident            type                                name  \\\n",
       "0          00A        heliport                   Total Rf Heliport   \n",
       "1         00AA   small_airport                Aero B Ranch Airport   \n",
       "2         00AK   small_airport                        Lowell Field   \n",
       "3         00AL   small_airport                        Epps Airpark   \n",
       "4         00AR          closed  Newport Hospital & Clinic Heliport   \n",
       "...        ...             ...                                 ...   \n",
       "57416     ZYYK  medium_airport               Yingkou Lanqi Airport   \n",
       "57417     ZYYY  medium_airport             Shenyang Dongta Airport   \n",
       "57418  ZZ-0001        heliport                     Sealand Helipad   \n",
       "57419  ZZ-0002   small_airport           Glorioso Islands Airstrip   \n",
       "57420     ZZZZ   small_airport             Satsuma IÅjima Airport   \n",
       "\n",
       "       elevation_ft continent iso_country iso_region      municipality  \\\n",
       "0              11.0       NaN          US      US-PA          Bensalem   \n",
       "1            3435.0       NaN          US      US-KS             Leoti   \n",
       "2             450.0       NaN          US      US-AK      Anchor Point   \n",
       "3             820.0       NaN          US      US-AL           Harvest   \n",
       "4             237.0       NaN          US      US-AR           Newport   \n",
       "...             ...       ...         ...        ...               ...   \n",
       "57416           0.0        AS          CN      CN-21           Yingkou   \n",
       "57417           NaN        AS          CN      CN-21          Shenyang   \n",
       "57418          40.0        EU          GB     GB-ENG           Sealand   \n",
       "57419          11.0        AF          TF     TF-U-A  Grande Glorieuse   \n",
       "57420         338.0        AS          JP      JP-46      Mishima-Mura   \n",
       "\n",
       "      gps_code iata_code local_code                              coordinates  \n",
       "0          00A       NaN        00A       -74.93360137939453, 40.07080078125  \n",
       "1         00AA       NaN       00AA                   -101.473911, 38.704022  \n",
       "2         00AK       NaN       00AK              -151.695999146, 59.94919968  \n",
       "3         00AL       NaN       00AL    -86.77030181884766, 34.86479949951172  \n",
       "4          NaN       NaN        NaN                      -91.254898, 35.6087  \n",
       "...        ...       ...        ...                                      ...  \n",
       "57416     ZYYK       YKH        NaN                      122.3586, 40.542524  \n",
       "57417     ZYYY       NaN        NaN   123.49600219726562, 41.784400939941406  \n",
       "57418      NaN       NaN        NaN                        1.4825, 51.894444  \n",
       "57419      NaN       NaN        NaN  47.296388888900005, -11.584277777799999  \n",
       "57420     RJX7       NaN       RJX7                    130.270556, 30.784722  \n",
       "\n",
       "[57421 rows x 12 columns]"
      ]
     },
     "execution_count": 13,
     "metadata": {},
     "output_type": "execute_result"
    }
   ],
   "source": [
    "df"
   ]
  },
  {
   "cell_type": "code",
   "execution_count": 93,
   "metadata": {},
   "outputs": [
    {
     "data": {
      "text/html": [
       "<div>\n",
       "<style scoped>\n",
       "    .dataframe tbody tr th:only-of-type {\n",
       "        vertical-align: middle;\n",
       "    }\n",
       "\n",
       "    .dataframe tbody tr th {\n",
       "        vertical-align: top;\n",
       "    }\n",
       "\n",
       "    .dataframe thead th {\n",
       "        text-align: right;\n",
       "    }\n",
       "</style>\n",
       "<table border=\"1\" class=\"dataframe\">\n",
       "  <thead>\n",
       "    <tr style=\"text-align: right;\">\n",
       "      <th></th>\n",
       "      <th>ident</th>\n",
       "      <th>type</th>\n",
       "      <th>name</th>\n",
       "      <th>elevation_ft</th>\n",
       "      <th>continent</th>\n",
       "      <th>iso_country</th>\n",
       "      <th>iso_region</th>\n",
       "      <th>municipality</th>\n",
       "      <th>gps_code</th>\n",
       "      <th>iata_code</th>\n",
       "      <th>local_code</th>\n",
       "      <th>coordinates</th>\n",
       "    </tr>\n",
       "  </thead>\n",
       "  <tbody>\n",
       "  </tbody>\n",
       "</table>\n",
       "</div>"
      ],
      "text/plain": [
       "Empty DataFrame\n",
       "Columns: [ident, type, name, elevation_ft, continent, iso_country, iso_region, municipality, gps_code, iata_code, local_code, coordinates]\n",
       "Index: []"
      ]
     },
     "execution_count": 93,
     "metadata": {},
     "output_type": "execute_result"
    }
   ],
   "source": [
    "df = df[df['iata_code'].notna()]\n",
    "df[df['iata_code'].str.len() == 2]"
   ]
  },
  {
   "cell_type": "code",
   "execution_count": 52,
   "metadata": {},
   "outputs": [],
   "source": [
    "# df = df.drop(df[df.iata_code == 'NaN'].index, inplace=True)\n",
    "\n",
    "\n",
    "##### look for value in df\n",
    "# 45.6696° N, 9.7036° E\n",
    "def find_airport_coord(x):\n",
    "#     x = 'BGY'\n",
    "    item = df.loc[df['iata_code'] == x, 'coordinates'].item()\n",
    "    coords = item.split(',')\n",
    "    coords = [float(s) for s in coords]\n",
    "    coords = (coords[0], coords[1])\n",
    "    return coords"
   ]
  },
  {
   "cell_type": "code",
   "execution_count": 43,
   "metadata": {},
   "outputs": [
    {
     "name": "stdout",
     "output_type": "stream",
     "text": [
      "Collecting geopy\n",
      "  Downloading geopy-2.2.0-py3-none-any.whl (118 kB)\n",
      "     |████████████████████████████████| 118 kB 5.3 MB/s            \n",
      "\u001b[?25hCollecting geographiclib<2,>=1.49\n",
      "  Downloading geographiclib-1.52-py3-none-any.whl (38 kB)\n",
      "Installing collected packages: geographiclib, geopy\n",
      "Successfully installed geographiclib-1.52 geopy-2.2.0\n",
      "\u001b[33mWARNING: You are using pip version 21.3.1; however, version 22.0.4 is available.\n",
      "You should consider upgrading via the '/opt/anaconda3/bin/python -m pip install --upgrade pip' command.\u001b[0m\n",
      "Note: you may need to restart the kernel to use updated packages.\n"
     ]
    }
   ],
   "source": [
    "pip install geopy\n"
   ]
  },
  {
   "cell_type": "code",
   "execution_count": 175,
   "metadata": {},
   "outputs": [
    {
     "data": {
      "text/plain": [
       "2116.389151241743"
      ]
     },
     "execution_count": 175,
     "metadata": {},
     "output_type": "execute_result"
    }
   ],
   "source": [
    "\n",
    "\n",
    "coords_1 = find_airport_coord('LIS')\n",
    "coords_2 = find_airport_coord('MXP')\n",
    "\n",
    "distance = geopy.distance.distance(coords_1, coords_2).km\n",
    "distance "
   ]
  },
  {
   "cell_type": "code",
   "execution_count": 66,
   "metadata": {},
   "outputs": [],
   "source": [
    "doc = 'boarding-pass-2.pdf'\n",
    "f = doc.split('.', 1)[1].lower()"
   ]
  },
  {
   "cell_type": "code",
   "execution_count": 67,
   "metadata": {},
   "outputs": [
    {
     "data": {
      "text/plain": [
       "True"
      ]
     },
     "execution_count": 67,
     "metadata": {},
     "output_type": "execute_result"
    }
   ],
   "source": [
    "f == 'pdf'"
   ]
  },
  {
   "cell_type": "code",
   "execution_count": 153,
   "metadata": {},
   "outputs": [],
   "source": [
    "body = \"{\\\"DATA DEL VIAGGIO / TRAVEL DATE \\\": \\\"24 JUL 2021 \\\", \\\"ORARIO DI CHIUSURA USCITA DI IMBARCO / GATE CLOSES \\\": \\\"10:45 \\\", \\\"POSTO NUMERO / SEAT NUMBER \\\": \\\"21E \\\", \\\"PASSEGGERO / PASSENGER \\\": \\\"VICINI, ALESSANDRA Sig.a \\\", \\\"NUMERO DEL VOLO / FLIGHT NUMBER \\\": \\\"EJU2717 \\\", \\\"A / TO \\\": \\\"(LIS) Lisbona (T2) \\\", \\\"DA / FROM \\\": \\\"(MXP) Milano Malpensa (T1) \\\", \\\"ORARIO DI PARTENZA DEL VOLO / FLIGHT DEPARTS \\\": \\\"11:15 \\\"}\"\n",
    "body = body.split(\" \")"
   ]
  },
  {
   "cell_type": "code",
   "execution_count": 109,
   "metadata": {},
   "outputs": [
    {
     "data": {
      "text/plain": [
       "'Humberto Delgado Airport (Lisbon Portela Airport)'"
      ]
     },
     "execution_count": 109,
     "metadata": {},
     "output_type": "execute_result"
    }
   ],
   "source": [
    "df.loc[df['iata_code'] == 'LIS', 'name'].item()"
   ]
  },
  {
   "cell_type": "code",
   "execution_count": 163,
   "metadata": {},
   "outputs": [],
   "source": [
    "spec_chars = \"\\.[]{}()<>*+-=!?^$|/:,\\\"\"\n",
    "new_body = []\n",
    "for x in body:\n",
    "#     print(x)\n",
    "    for c in spec_chars:\n",
    "        x = x.replace(c, \"\")\n",
    "    new_body.append(x.lower())\n"
   ]
  },
  {
   "cell_type": "code",
   "execution_count": 174,
   "metadata": {},
   "outputs": [
    {
     "name": "stdout",
     "output_type": "stream",
     "text": [
      "Indira\n",
      "Gandhi\n",
      "International\n",
      "Airport\n",
      "Inca\n",
      "Manco\n",
      "Capac\n",
      "International\n",
      "Airport\n",
      "Indira\n",
      "Gandhi\n",
      "International\n",
      "Airport\n",
      "Humberto\n",
      "Delgado\n",
      "Airport\n",
      "Lisbon\n",
      "Portela\n",
      "Airport\n",
      "Malpensa\n",
      "Malpensa\n",
      "(8.72811, 45.6306)\n",
      "Indira\n",
      "Gandhi\n",
      "International\n",
      "Airport\n",
      "we could not find your trip points\n"
     ]
    },
    {
     "data": {
      "text/plain": [
       "[]"
      ]
     },
     "execution_count": 174,
     "metadata": {},
     "output_type": "execute_result"
    }
   ],
   "source": [
    "coords = []\n",
    "for x in new_body:\n",
    "    if len(x) == 3 and x.upper() in df.iata_code.values:\n",
    "#         print(airport)\n",
    "        airport = df.loc[df['iata_code'] == x.upper(), 'name'].item()\n",
    "        airport_list = airport.split(\" \")\n",
    "        for name in airport_list:\n",
    "            for char in spec_chars:\n",
    "                name = name.replace(char, \"\")\n",
    "            print(name)\n",
    "#             print(new_body)\n",
    "            if name.lower() in new_body:\n",
    "                print(name)\n",
    "                r = find_airport_coord(x.upper())\n",
    "                print(r)\n",
    "                if r not in coords:\n",
    "                    coords.append((r,airport))\n",
    "                    break\n",
    "distances = []\n",
    "if len(coords) == 2:\n",
    "    distance = geopy.distance.distance(coords[0][0], coords[1][0]).km\n",
    "    print(\"Distance: \" + distance + \"from \" + coords[0][1] + \"to \" + coords[1][1])\n",
    "elif len(coords) < 2:\n",
    "    print(\"we could not find your trip points\")\n",
    "else:\n",
    "    \n",
    "    for i in coords:\n",
    "        for j in coords:\n",
    "            if i != j:\n",
    "                distances.append((geopy.distance.distance(coords[i][0], coords[j][0]).km, (coords[i][1], coords[j][1])))\n",
    "                \n",
    "                \n",
    "                \n",
    "distances"
   ]
  },
  {
   "cell_type": "code",
   "execution_count": 173,
   "metadata": {},
   "outputs": [
    {
     "data": {
      "text/plain": [
       "8.72811"
      ]
     },
     "execution_count": 173,
     "metadata": {},
     "output_type": "execute_result"
    }
   ],
   "source": [
    "coords[0][0][0]\n"
   ]
  },
  {
   "cell_type": "code",
   "execution_count": null,
   "metadata": {},
   "outputs": [],
   "source": []
  }
 ],
 "metadata": {
  "kernelspec": {
   "display_name": "Python 3",
   "language": "python",
   "name": "python3"
  },
  "language_info": {
   "codemirror_mode": {
    "name": "ipython",
    "version": 3
   },
   "file_extension": ".py",
   "mimetype": "text/x-python",
   "name": "python",
   "nbconvert_exporter": "python",
   "pygments_lexer": "ipython3",
   "version": "3.8.3"
  }
 },
 "nbformat": 4,
 "nbformat_minor": 4
}
